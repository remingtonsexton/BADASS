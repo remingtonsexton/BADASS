{
 "cells": [
  {
   "cell_type": "markdown",
   "metadata": {},
   "source": [
    "# Fetch IRSA Dust E(B-V)\n",
    "\n",
    "When running BADASS for multiple spectra using the multiprocessing notebook, BADASS will hangup when trying to fit spectra it has not previously obtained E(B-V) values for via Astroquery's [IRSA Dust Extinction Service Query](https://astroquery.readthedocs.io/en/latest/irsa/irsa_dust.html).  This is a known issue (see [this](https://github.com/astropy/astroquery/issues/684).  The problem stems from the fact that `IrsaDust. get_query_table()` treats multiple Python subprocesses as a single-process. For example, if you are running 4 subprocesses (fitting 4 spectra simultaneously), it will only query the last process of the four, and leave the first three hanging.  \n",
    "\n",
    "Luckily there is a workaround.  `IrsaDust. get_query_table()` stores previous queries on your local machine so they can be accessed without looking them up every single time.  The solution is to simply query E(B-V) values for all of your objects before fitting, which seems dumb but it's the only workaround and its quick.   "
   ]
  },
  {
   "cell_type": "code",
   "execution_count": null,
   "metadata": {},
   "outputs": [],
   "source": [
    "import numpy as np\n",
    "from astropy.io import fits\n",
    "from astroquery.irsa_dust import IrsaDust\n",
    "import astropy.units as u\n",
    "from astropy import coordinates\n",
    "import glob\n",
    "import natsort"
   ]
  },
  {
   "cell_type": "code",
   "execution_count": null,
   "metadata": {},
   "outputs": [],
   "source": [
    "def get_dust(spec_fold):\n",
    "    # Get path of of spectra file\n",
    "    spec_file = glob.glob(spec_fold+'/*.fits')[0]\n",
    "    # Get object name \n",
    "    obj_name = spec_fold.split('/')[-1]\n",
    "    try:\n",
    "        # Load the data\n",
    "        hdu = fits.open(spec_file)\n",
    "        specobj = hdu[2].data\n",
    "        try:\n",
    "            ra  = hdu[0].header['RA']\n",
    "            dec = hdu[0].header['DEC']\n",
    "        except:\n",
    "            ra  = specobj['PLUG_RA'][0]\n",
    "            dec = specobj['PLUG_DEC'][0]\n",
    "\n",
    "        co = coordinates.SkyCoord(ra=ra, dec=dec, unit=(u.deg, u.deg), frame='fk5')\n",
    "        table = IrsaDust.get_query_table(co,section='ebv')\n",
    "        ebv = table['ext SandF mean'][0]\n",
    "\n",
    "        hdu.close()\n",
    "        print(' %s,  %0.3f' % (obj_name, ebv))\n",
    "        return ebv\n",
    "    except: \n",
    "        print('\\n %s has no (RA,DEC) in header! \\n' % obj_name)\n",
    "        return None"
   ]
  },
  {
   "cell_type": "markdown",
   "metadata": {},
   "source": [
    "### Directories\n"
   ]
  },
  {
   "cell_type": "code",
   "execution_count": null,
   "metadata": {},
   "outputs": [],
   "source": [
    "spec_dir  = '../examples/'\n",
    "# spec_dir  = '/Users/rem/paper_3_nls1_m_sigma/unfit_spectra_ALL/'\n",
    "\n",
    "spec_fold = natsort.natsorted(glob.glob(spec_dir+'*'))\n",
    "print len(spec_fold)"
   ]
  },
  {
   "cell_type": "markdown",
   "metadata": {},
   "source": [
    "### Run"
   ]
  },
  {
   "cell_type": "code",
   "execution_count": null,
   "metadata": {
    "scrolled": false
   },
   "outputs": [],
   "source": [
    "for i in range(len(spec_fold)):\n",
    "    ebv = get_dust(spec_fold[i])\n",
    "    \n",
    "print('\\n Done')"
   ]
  },
  {
   "cell_type": "code",
   "execution_count": null,
   "metadata": {},
   "outputs": [],
   "source": []
  }
 ],
 "metadata": {
  "kernelspec": {
   "display_name": "Python 2",
   "language": "python",
   "name": "python2"
  },
  "language_info": {
   "codemirror_mode": {
    "name": "ipython",
    "version": 2
   },
   "file_extension": ".py",
   "mimetype": "text/x-python",
   "name": "python",
   "nbconvert_exporter": "python",
   "pygments_lexer": "ipython2",
   "version": "2.7.17"
  }
 },
 "nbformat": 4,
 "nbformat_minor": 2
}
