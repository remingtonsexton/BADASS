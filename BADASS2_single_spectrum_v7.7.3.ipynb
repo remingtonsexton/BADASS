{
 "cells": [
  {
   "cell_type": "markdown",
   "metadata": {},
   "source": [
    "# Bayesian AGN Decomposition Analysis for SDSS Spectra - Single Spectrum (Version 7.7.3)\n",
    "\n",
    "###  Remington O. Sexton (UCR), William Matzko (GMU), Nicholas Darden (UCR), \n",
    "\n",
    "some would say its pretty BADASS..."
   ]
  },
  {
   "cell_type": "code",
   "execution_count": null,
   "metadata": {},
   "outputs": [],
   "source": [
    "import glob\n",
    "import time\n",
    "import natsort\n",
    "from IPython.display import clear_output\n",
    "import multiprocessing as mp\n",
    "import os\n",
    "import psutil\n",
    "# To see full list of imported packages and modules, see \n",
    "# badass2_v7_7_3.py file.\n",
    "import badass2_v7_7_3 as badass # <<<--- Import BADASS here"
   ]
  },
  {
   "cell_type": "markdown",
   "metadata": {},
   "source": [
    "### BADASS Options"
   ]
  },
  {
   "cell_type": "code",
   "execution_count": null,
   "metadata": {},
   "outputs": [],
   "source": [
    "################################## Fit Options #################################\n",
    "# Fitting Parameters\n",
    "fit_options={\n",
    "'fit_reg'    : (4400,5500), # Fitting region; Indo-US Library=(3460,9464)\n",
    "'good_thresh': 0.0, # percentage of \"good\" pixels required in fig_reg for fit.\n",
    "'interp_bad' : False, # interpolate over pixels SDSS flagged as 'bad' (careful!)\n",
    "# Number of consecutive basinhopping thresholds before solution achieved\n",
    "'n_basinhop': 5,\n",
    "# Outflow Testing Parameters\n",
    "'test_outflows': True, \n",
    "'outflow_test_niter': 10, # number of monte carlo iterations for outflows\n",
    "# Maximum Likelihood Fitting for Final Model Parameters\n",
    "'max_like_niter': 10, # number of maximum likelihood iterations\n",
    "# LOSVD parameters\n",
    "'min_sn_losvd': 5,  # minimum S/N threshold for fitting the LOSVD\n",
    "# Emission line profile parameters\n",
    "'line_profile':'G' # Gaussian (G) or Lorentzian (L)\n",
    "}\n",
    "################################################################################\n",
    "\n",
    "########################### MCMC algorithm parameters ##########################\n",
    "mcmc_options={\n",
    "'mcmc_fit'    : True, # Perform robust fitting using emcee\n",
    "'nwalkers'    : 100,  # Number of emcee walkers; min = 2 x N_parameters\n",
    "'auto_stop'   : True, # Automatic stop using autocorrelation analysis\n",
    "'conv_type'   : 'median', # 'median', 'mean', 'all', or (tuple) of parameters\n",
    "'min_samp'    : 2500,  # min number of iterations for sampling post-convergence\n",
    "'ncor_times'  : 5.0,  # number of autocorrelation times for convergence\n",
    "'autocorr_tol': 10.0,  # percent tolerance between checking autocorr. times\n",
    "'write_iter'  : 100,   # write/check autocorrelation times interval\n",
    "'write_thresh': 100,   # when to start writing/checking parameters\n",
    "'burn_in'     : 17500, # burn-in if max_iter is reached\n",
    "'min_iter'    : 2500, # min number of iterations before stopping\n",
    "'max_iter'    : 20000, # max number of MCMC iterations\n",
    "}\n",
    "################################################################################\n",
    "\n",
    "############################ Fit component options #############################\n",
    "comp_options={\n",
    "'fit_feii'    : True, # fit broad and narrow FeII emission\n",
    "'fit_losvd'   : True, # fit LOSVD (stellar kinematics) in final model\n",
    "'fit_host'    : True, # fit host-galaxy using template (if fit_LOSVD turned off)\n",
    "'fit_power'   : True, # fit AGN power-law continuum\n",
    "'fit_broad'   : True, # fit broad lines (Type 1 AGN)\n",
    "'fit_narrow'  : True, # fit narrow lines\n",
    "'fit_outflows': True, # fit outflows;\n",
    "'tie_narrow'  : False,  # tie narrow widths (don't do this)\n",
    "}\n",
    "################################################################################\n",
    "\n",
    "########################### Emission Lines & Options ###########################\n",
    "# If not specified, defaults to SDSS-QSO Emission Lines (http://classic.sdss.org/dr6/algorithms/linestable.html)\n",
    "################################################################################\n",
    "\n",
    "############################### FeII Fit options ###############################\n",
    "# Below are options for fitting FeII.  For most objects, you don't need to \n",
    "# perform detailed fitting on FeII (only fit for amplitudes) use the \n",
    "# Veron-Cetty 2004 template ('VC04') (2-6 free parameters)\n",
    "# However in NLS1 objects, FeII is much stronger, and sometimes more detailed \n",
    "# fitting is necessary, use the Kovacevic 2010 template \n",
    "# ('K10'; 7 free parameters).\n",
    "\n",
    "# The options are:\n",
    "# template   : VC04 (Veron-Cetty 2004) or K10 (Kovacevic 2010)\n",
    "# amp_const  : constant amplitude (default False)\n",
    "# fwhm_const : constant fwhm (default True)\n",
    "# voff_const : constant velocity offset (default True)\n",
    "# temp_const : constant temp ('K10' only)\n",
    "\n",
    "feii_options={\n",
    "'template'  :{'type':'VC04'}, \n",
    "'amp_const' :{'bool':False,'br_feii_val':1.0,'na_feii_val':1.0},\n",
    "'fwhm_const':{'bool':True,'br_feii_val':3000.0,'na_feii_val':500.0},\n",
    "'voff_const':{'bool':True,'br_feii_val':0.0,'na_feii_val':0.0},\n",
    "}\n",
    "# or\n",
    "# feii_options={\n",
    "# 'template'  :{'type':'K10'},\n",
    "# 'amp_const' :{'bool':False,'f_feii_val':1.0,'s_feii_val':1.0,'g_feii_val':1.0,'z_feii_val':1.0},\n",
    "# 'fwhm_const':{'bool':False,'val':1500.0},\n",
    "# 'voff_const':{'bool':False,'val':0.0},\n",
    "# 'temp_const':{'bool':False,'val':10000.0} \n",
    "# }\n",
    "################################################################################\n",
    "\n",
    "############################# Outflow Test options #############################\n",
    "# Here one can choose how outflows are fit and tested for \n",
    "# Amp. test   : outflow amp. must be N-sigma greater than noise\n",
    "# FWHM test   : outflow must have greater FWHM than core comp by N-sigma\n",
    "# VOFF test   : outflow must have a larger offset than core relative to rest;\n",
    "#               picks out only blueshifted outflows by N-sigma\n",
    "# Resid. test : there must be a measurable difference in residuals by N-sigma\n",
    "# Bounds. test: if paramters of fit reach bounds by N-sigma, \n",
    "#               consider it a bad fit.\n",
    "outflow_test_options={\n",
    "'amp_test':{'test':True,'nsigma':3.0}, # Amplitude-over-noise by n-sigma\n",
    "'fwhm_test':{'test':True,'nsigma':1.0}, # FWHM difference by n-sigma\n",
    "'voff_test':{'test':True,'nsigma':1.0}, # blueshift voff from core by n-sigma\n",
    "'outflow_confidence':{'test':True,'conf':0.95}, # outflow confidence acceptance\n",
    "'bounds_test':{'test':True,'nsigma':1.0} # within bounds by n-sigma\n",
    "}\n",
    "################################################################################\n",
    "\n",
    "############################### Plotting options ###############################\n",
    "plot_options={\n",
    "'plot_param_hist': True,# Plot MCMC histograms and chains for each parameter\n",
    "'plot_flux_hist' : True,# Plot MCMC hist. and chains for component fluxes\n",
    "'plot_lum_hist'  : True,# Plot MCMC hist. and chains for component luminosities\n",
    "'plot_mbh_hist'  : True,# Plot MCMC hist. for estimated AGN lum. and BH masses\n",
    "'plot_corner'    : False,# Plot corner plot of relevant parameters; Corner plots \n",
    "                         # of free paramters can be quite large require a PDF \n",
    "                         # output, and have significant time and space overhead, \n",
    "                         # so we set this to False by default. \n",
    "'plot_bpt'      : True,  # Plot BPT diagram \n",
    "}\n",
    "################################################################################\n",
    "\n",
    "################################ Output options ################################\n",
    "output_options={\n",
    "'write_chain'   : False, # Write MCMC chains for all paramters, fluxes, and\n",
    "                         # luminosities to a FITS table We set this to false \n",
    "                         # because MCMC_chains.FITS file can become very large, \n",
    "                         # especially  if you are running multiple objects.  \n",
    "                         # You only need this if you want to reconstruct chains \n",
    "                         # and histograms. \n",
    "'print_output'  : True,  # prints steps of fitting process in Jupyter output\n",
    "}\n",
    "################################################################################\n",
    "\n",
    "############################ Multiprocessing options ###########################\n",
    "# If fitting single object at a time (no for loops!) then one can set threads>1\n",
    "# If one wants to fit objects sequentially (one after another), it must be set \n",
    "# to threads=1, and must use multiprocessing to spawn subprocesses without \n",
    "# significant memory leaks. \n",
    "mp_options={\n",
    "'threads' : 4 # number of processes per object\n",
    "}\n",
    "################################################################################\n"
   ]
  },
  {
   "cell_type": "markdown",
   "metadata": {},
   "source": [
    "### Run BADASS on a single spectrum\n",
    "\n",
    "The following is shows how to fit single SDSS spectra."
   ]
  },
  {
   "cell_type": "markdown",
   "metadata": {},
   "source": [
    "#### Directory Structure"
   ]
  },
  {
   "cell_type": "code",
   "execution_count": null,
   "metadata": {},
   "outputs": [],
   "source": [
    "########################## Directory Structure #################################\n",
    "spec_dir = 'examples/' # folder with spectra in it\n",
    "ppxf_dir = 'badass_data_files/' # support files\n",
    "temp_dir = ppxf_dir+'indo_us_library' # stellar templates\n",
    "# Get full list of spectrum folders; these will be the working directories\n",
    "spec_loc = natsort.natsorted( glob.glob(spec_dir+'*') )\n",
    "################################################################################"
   ]
  },
  {
   "cell_type": "markdown",
   "metadata": {},
   "source": [
    "#### Choose Spectrum"
   ]
  },
  {
   "cell_type": "code",
   "execution_count": null,
   "metadata": {},
   "outputs": [],
   "source": [
    "nobj = 0 # Object in the spec_loc list\n",
    "work_dir = spec_loc[nobj]+'/' # working directory\n",
    "# Set up run ('MCMC_output_#') directory\n",
    "run_dir,prev_dir = badass.setup_dirs(work_dir,print_output=output_options['print_output']) \n",
    "file = glob.glob(work_dir+'*.fits')[0] # Get name of FITS spectra file\n",
    "#"
   ]
  },
  {
   "cell_type": "markdown",
   "metadata": {},
   "source": [
    "#### Run "
   ]
  },
  {
   "cell_type": "code",
   "execution_count": null,
   "metadata": {
    "scrolled": false
   },
   "outputs": [],
   "source": [
    "\n",
    "# Call the main function in BADASS\n",
    "badass.run_BADASS(file,run_dir,temp_dir,\n",
    "                  fit_options,\n",
    "                  mcmc_options,\n",
    "                  comp_options,\n",
    "                  feii_options,\n",
    "                  outflow_test_options,\n",
    "                  plot_options,\n",
    "                  output_options,\n",
    "                  mp_options,\n",
    "                 )\n",
    "    #"
   ]
  }
 ],
 "metadata": {
  "kernelspec": {
   "display_name": "Python 2",
   "language": "python",
   "name": "python2"
  },
  "language_info": {
   "codemirror_mode": {
    "name": "ipython",
    "version": 2
   },
   "file_extension": ".py",
   "mimetype": "text/x-python",
   "name": "python",
   "nbconvert_exporter": "python",
   "pygments_lexer": "ipython2",
   "version": "2.7.17"
  }
 },
 "nbformat": 4,
 "nbformat_minor": 2
}
