{
 "cells": [
  {
   "cell_type": "markdown",
   "metadata": {},
   "source": [
    "# Bayesian AGN Decomposition Analysis for SDSS Spectra (Version 7.0.0) \n",
    "\n",
    "###  Remington O. Sexton (UCR), William Matzko (GMU), Nicholas Darden (UCR), \n",
    "\n",
    "some would say its pretty BADASS..."
   ]
  },
  {
   "cell_type": "code",
   "execution_count": null,
   "metadata": {},
   "outputs": [],
   "source": [
    "import glob\n",
    "import time\n",
    "import natsort\n",
    "from IPython.display import clear_output\n",
    "\n",
    "# To see full list of imported packages and modules, see \n",
    "# badass_6_2_0.py file.\n",
    "import badass_v7_0_0 as badass # <<<--- Import BADASS here"
   ]
  },
  {
   "cell_type": "markdown",
   "metadata": {},
   "source": [
    "### BADASS Options"
   ]
  },
  {
   "cell_type": "code",
   "execution_count": null,
   "metadata": {},
   "outputs": [],
   "source": [
    "################################### Options ################################################################\n",
    "# Fitting parameters\n",
    "fit_reg       = (4400,5800) # Fitting region; MILES Stellar Library=(3540,7409); Indo-US Library=(3460,9464)\n",
    "good_thresh   = 0.0 # good pixels threshold; if number of good pixels is below this percentage, do NOT fit the spectrum.\n",
    "# Outflow testing parameters\n",
    "#    BADASS tests for outflows using the region from 4400 A -5800 A to constrain the effects of FeII when fitting for outflows.\n",
    "#    If 'test_outflows=True', then BADASS fits ALL fitting components in the region, and performs 'outflow_test_niter' monte-carlo\n",
    "#    bootstrap simulations by resampling the residual noise of the original fit.  If 'test_outflows=False', then it will skip this\n",
    "#    force whatever fitting components you choose.\n",
    "test_outflows      = True \n",
    "outflow_test_niter = 10 # number of monte carlo bootstrap simulations for outflows\n",
    "# Maximum Likelihood parameters\n",
    "max_like_niter = 10 # number of maximum likelihood parameters\n",
    "# LOSVD parameters\n",
    "min_sn_losvd  = 10  # minimum S/N threshold for fitting the LOSVD; below this limit a host template is used.\n",
    "# MCMC algorithm parameters #################################################################################\n",
    "# Autocorrelation & MCMC Parameters\n",
    "mcmc_fit      = True # Perform robust fitting using emcee\n",
    "nwalkers      = 100  # Number of emcee walkers; minimum = 2 x ( # number of parameters)\n",
    "auto_stop     = True # Automatic stop using autocorrelation analysis\n",
    "conv_type     = 'median' # 'median','mean', or list of specific paramters, eg. ('stel_vel','stel_disp')\n",
    "min_samp      = 2500  # minimum number of iterations for sampling post-convergence; recommended minimum min_samp=1000\n",
    "ncor_times    = 10.0    # number of autocorrelation times for convergence; recommended minimum ncor_times=2\n",
    "autocorr_tol  = 10.0  # percentile tolderance between checking autocorrelation times; recommended minimum autocorr_tol = 5.0 \n",
    "write_iter    = 100   # check every N number of iterations\n",
    "write_thresh  = 100   # when to start writing parameters to MCMC_chain.csv\n",
    "burn_in       = 47500 # (only works if auto_stop = False)\n",
    "min_iter      = 100   # minimum number of iterations before checking for convergence\n",
    "max_iter      = 50000 # max number of MCMC iterations before stopping\n",
    "#############################################################################################################\n",
    "# Final component fitting options\n",
    "    # Note: by default, all options (except for fit_losvd) are set to 'True' for the initial fit, so \n",
    "    # as to make no assumptions on the presence of outflows\n",
    "fit_feii      = True # fit FeII (option for Type 2 AGN)\n",
    "fit_losvd     = True # fit LOSVD (Stellar population) in final model only\n",
    "fit_host      = True # fit host-galaxy using a template(used when LOSVD is false or total continuum S/N < 5)\n",
    "fit_power     = True # fit AGN power-law continuum (option for Type 2 AGN)\n",
    "fit_broad     = True # fit broad lines (option for Type 2 AGN)\n",
    "fit_narrow    = True # fit narrow lines (because why not)\n",
    "fit_outflows  = True # fit outflows;\n",
    "tie_narrow    = False  # tie all narrow components to [OIII]5007 (also ties outflow components); Note: Only works if wavelength\n",
    "                      # range includes the Hb/[OIII] region.\n",
    "#############################################################################################################\n",
    "# Plotting options\n",
    "plot_param_hist = True # Plot MCMC histograms and chains for each parameter\n",
    "plot_flux_hist  = True # Plot MCMC histograms and chains for component fluxes\n",
    "plot_lum_hist   = True # Plot MCMC histograms and chains for component luminosities\n",
    "plot_mbh_hist   = True # Plot MCMC histograms for estimated AGN luminosities and BH masses (if broad lines are fit)\n",
    "plot_corner     = False # Plot corner plot of relevant parameters; Corner plots of free paramters can be quite large\n",
    "                        # require a PDF output, and have significant time and space overhead, so we set this to \n",
    "                        # False by default.\n",
    "plot_bpt        = True # Plot BPT diagram \n",
    "write_chain     = False # Write MCMC chains for all paramters, fluxes, and luminosities to a FITS table\n",
    "                       # We set this to false because MCMC_chains.FITS file can become very large, especially \n",
    "                       # if you are running multiple objects.  You only need this if you want to reconstruct\n",
    "                       # chains and histograms. \n",
    "#############################################################################################################\n",
    "# Multiprocessing options\n",
    "threads = 4 # number of processes per object"
   ]
  },
  {
   "cell_type": "markdown",
   "metadata": {},
   "source": [
    "### Run BADASS\n",
    "\n",
    "The following is shows the suggested directory structure for fitting multiple (or even single) SDSS spectra.  It also shows the required calling sequence and necessary parameters for BADASS."
   ]
  },
  {
   "cell_type": "code",
   "execution_count": null,
   "metadata": {},
   "outputs": [],
   "source": [
    "### Directory Structure ##########################################################\n",
    "spec_dir = 'example_spectra/' # Directory where spectral folders are kept\n",
    "ppxf_dir = 'badass_data_files_50/' # Directory where BADASS support files \n",
    "temp_dir = ppxf_dir+'indo_us_library' # Directory where stellar templates are kept\n",
    "# Get full list of spectrum folders; these will be the working directories\n",
    "spec_loc = natsort.natsorted( glob.glob(spec_dir+'*') )\n",
    "# ###########################################################################################################\n",
    "\n",
    "# Loop over all objects we want to fit in spec_loc\n",
    "for i in range(0,1,1): # run for first object in spec_loc  \n",
    "    clear_output() # Clears notebook output after each object\n",
    "\n",
    "    work_dir = spec_loc[i]+'/' # working directory; where MCMC_output_# folders for each run are kept\n",
    "    run_dir,prev_dir = badass.setup_dirs(work_dir) # This function sets up working directories for BADASS\n",
    "    file = glob.glob(work_dir+'*.fits')[0] # Get name of FITS spectra file\n",
    "    #\n",
    "    # Call the main function in BADASS\n",
    "    badass.run_BADASS(file,run_dir,temp_dir,\n",
    "                      fit_reg=fit_reg, good_thresh=good_thresh,\n",
    "                      test_outflows=test_outflows, outflow_test_niter=outflow_test_niter,\n",
    "                      max_like_niter=max_like_niter, min_sn_losvd=min_sn_losvd,\n",
    "                      mcmc_fit=mcmc_fit, nwalkers=nwalkers, auto_stop=auto_stop, conv_type=conv_type, \n",
    "                      min_samp=min_samp, ncor_times=ncor_times, autocorr_tol=autocorr_tol,\n",
    "                      write_iter=write_iter, write_thresh=write_thresh, burn_in=burn_in,\n",
    "                      min_iter=min_iter, max_iter=max_iter,\n",
    "                      fit_feii=fit_feii, fit_losvd=fit_losvd, fit_host=fit_host, fit_power=fit_power,\n",
    "                      fit_broad=fit_broad, fit_narrow=fit_narrow, fit_outflows=fit_outflows, tie_narrow=tie_narrow,\n",
    "                      plot_param_hist=plot_param_hist, plot_flux_hist=plot_flux_hist, plot_lum_hist=plot_lum_hist,\n",
    "                      plot_mbh_hist=plot_mbh_hist, plot_corner=plot_corner,plot_bpt=plot_bpt,write_chain=write_chain,\n",
    "                      threads=threads)\n",
    "    #\n",
    "    print('\\n Done! \\n')"
   ]
  }
 ],
 "metadata": {
  "kernelspec": {
   "display_name": "Python 2",
   "language": "python",
   "name": "python2"
  },
  "language_info": {
   "codemirror_mode": {
    "name": "ipython",
    "version": 2
   },
   "file_extension": ".py",
   "mimetype": "text/x-python",
   "name": "python",
   "nbconvert_exporter": "python",
   "pygments_lexer": "ipython2",
   "version": "2.7.17"
  }
 },
 "nbformat": 4,
 "nbformat_minor": 2
}
